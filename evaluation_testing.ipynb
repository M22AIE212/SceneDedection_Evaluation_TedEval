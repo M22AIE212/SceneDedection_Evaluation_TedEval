{
  "nbformat": 4,
  "nbformat_minor": 0,
  "metadata": {
    "colab": {
      "provenance": [],
      "authorship_tag": "ABX9TyOPuDE4nx3fLXH1kmhF3TIE",
      "include_colab_link": true
    },
    "kernelspec": {
      "name": "python3",
      "display_name": "Python 3"
    },
    "language_info": {
      "name": "python"
    }
  },
  "cells": [
    {
      "cell_type": "markdown",
      "metadata": {
        "id": "view-in-github",
        "colab_type": "text"
      },
      "source": [
        "<a href=\"https://colab.research.google.com/github/M22AIE212/SceneDedection_Evaluation_TedEval/blob/main/evaluation_testing.ipynb\" target=\"_parent\"><img src=\"https://colab.research.google.com/assets/colab-badge.svg\" alt=\"Open In Colab\"/></a>"
      ]
    },
    {
      "cell_type": "markdown",
      "source": [
        "## GIT CODE START\n",
        "\n",
        "\n",
        "\n"
      ],
      "metadata": {
        "id": "sBXvydNER5F2"
      }
    },
    {
      "cell_type": "code",
      "source": [
        "!git clone https://github.com/M22AIE212/SceneDedection_Evaluation_TedEval.git"
      ],
      "metadata": {
        "colab": {
          "base_uri": "https://localhost:8080/"
        },
        "id": "po53C4FXkZKx",
        "outputId": "de95e33a-a95f-47f3-8240-42b9f475c01b"
      },
      "execution_count": 1,
      "outputs": [
        {
          "output_type": "stream",
          "name": "stdout",
          "text": [
            "Cloning into 'SceneDedection_Evaluation_TedEval'...\n",
            "remote: Enumerating objects: 9, done.\u001b[K\n",
            "remote: Counting objects: 100% (9/9), done.\u001b[K\n",
            "remote: Compressing objects: 100% (7/7), done.\u001b[K\n",
            "remote: Total 9 (delta 1), reused 0 (delta 0), pack-reused 0\u001b[K\n",
            "Receiving objects: 100% (9/9), 8.54 KiB | 8.54 MiB/s, done.\n",
            "Resolving deltas: 100% (1/1), done.\n"
          ]
        }
      ]
    },
    {
      "cell_type": "code",
      "source": [
        "cd /content/SceneDedection_Evaluation_TedEval"
      ],
      "metadata": {
        "colab": {
          "base_uri": "https://localhost:8080/"
        },
        "id": "80FaLebFlNDE",
        "outputId": "aea34823-9e6a-4c42-d81f-472d118ebe26"
      },
      "execution_count": 2,
      "outputs": [
        {
          "output_type": "stream",
          "name": "stdout",
          "text": [
            "/content/SceneDedection_Evaluation_TedEval\n"
          ]
        }
      ]
    },
    {
      "cell_type": "code",
      "source": [
        "pip install -r requirements.txt"
      ],
      "metadata": {
        "colab": {
          "base_uri": "https://localhost:8080/"
        },
        "id": "YCMB3JUDgcha",
        "outputId": "61b39994-b02f-4ed9-b83b-a620e86e463a"
      },
      "execution_count": 3,
      "outputs": [
        {
          "output_type": "stream",
          "name": "stdout",
          "text": [
            "Collecting Polygon3 (from -r requirements.txt (line 1))\n",
            "  Downloading Polygon3-3.0.9.1.tar.gz (39 kB)\n",
            "  Preparing metadata (setup.py) ... \u001b[?25l\u001b[?25hdone\n",
            "Building wheels for collected packages: Polygon3\n",
            "  Building wheel for Polygon3 (setup.py) ... \u001b[?25l\u001b[?25hdone\n",
            "  Created wheel for Polygon3: filename=Polygon3-3.0.9.1-cp310-cp310-linux_x86_64.whl size=117851 sha256=4fda88309c90aa4d9516454bfaab9dbab8e1fd3d593f6b52ae7fc695802e4df7\n",
            "  Stored in directory: /root/.cache/pip/wheels/d8/b7/f6/b4e24f56a1cc9856dca98cc2fdc3915d7649b39b62f3dbca9e\n",
            "Successfully built Polygon3\n",
            "Installing collected packages: Polygon3\n",
            "Successfully installed Polygon3-3.0.9.1\n"
          ]
        }
      ]
    },
    {
      "cell_type": "markdown",
      "source": [
        "## Sample Rectangular Input"
      ],
      "metadata": {
        "id": "2wLa_8JZlQr5"
      }
    },
    {
      "cell_type": "code",
      "source": [
        "gt_dict = dict()\n",
        "gt_dict[\"img_1\"] = {\"bbox\" : [[38.0, 43.0, 920.0, 215.0],\n",
        "  [275.0, 264.0, 665.0, 450.0],\n",
        "  [0.0, 699.0, 77.0, 830.0],\n",
        "  [128.0, 705.0, 483.0, 839.0],\n",
        "  [542.0, 710.0, 938.0, 841.0],\n",
        "  [87.0, 884.0, 457.0, 1021.0],\n",
        "  [517.0, 919.0, 831.0, 1024.0],\n",
        "  [166.0, 1095.0, 468.0, 1231.0],\n",
        "  [530.0, 1069.0, 743.0, 1206.0]],\n",
        "                    \"transcription\" : ['Tiredness', 'kills', 'A', 'short', 'break', 'could', 'save', '###', '###']}\n",
        "\n",
        "gt_dict[\"img_14\"] = {\"bbox\" : [[214.0, 36.0, 419.0, 71.0],\n",
        "  [116.0, 102.0, 321.0, 137.0],\n",
        "  [336.0, 109.0, 371.0, 131.0],\n",
        "  [386.0, 103.0, 516.0, 138.0],\n",
        "  [20.0, 154.0, 168.0, 182.0],\n",
        "  [181.0, 160.0, 221.0, 182.0],\n",
        "  [236.0, 161.0, 256.0, 182.0],\n",
        "  [270.0, 153.0, 381.0, 182.0],\n",
        "  [397.0, 154.0, 456.0, 182.0],\n",
        "  [469.0, 161.0, 529.0, 182.0],\n",
        "  [544.0, 155.0, 611.0, 183.0],\n",
        "  [121.0, 206.0, 152.0, 233.0],\n",
        "  [166.0, 212.0, 185.0, 233.0],\n",
        "  [198.0, 205.0, 325.0, 233.0],\n",
        "  [341.0, 205.0, 510.0, 233.0],\n",
        "  [120.0, 262.0, 170.0, 277.0],\n",
        "  [178.0, 262.0, 242.0, 277.0],\n",
        "  [250.0, 263.0, 281.0, 277.0],\n",
        "  [288.0, 263.0, 304.0, 277.0],\n",
        "  [312.0, 263.0, 338.0, 277.0],\n",
        "  [346.0, 263.0, 429.0, 277.0],\n",
        "  [436.0, 262.0, 463.0, 277.0],\n",
        "  [470.0, 262.0, 511.0, 277.0],\n",
        "  [211.0, 394.0, 270.0, 412.0],\n",
        "  [274.0, 394.0, 345.0, 416.0],\n",
        "  [350.0, 394.0, 420.0, 412.0],\n",
        "  [238.0, 422.0, 312.0, 442.0],\n",
        "  [320.0, 422.0, 394.0, 437.0]],\n",
        "                    \"transcription\" : ['WARNING','Trespassing','or','causing','nuisance','on','a','school','site','can',\n",
        "                                       'lead','to','a','criminal','conviction','Under','Section','547','of','the','Education',\n",
        "                                       'Act','1996','Essex','County','Council','###','###']}\n",
        "\n",
        "det_dict = dict()\n",
        "det_dict['img_14'] = {\"bbox\" : [[218.0, 33.0, 428.0, 67.0],\n",
        "  [332.0, 202.0, 514.0, 238.0],\n",
        "  [342.0, 388.0, 428.0, 411.0],\n",
        "  [314.0, 417.0, 404.0, 438.0],\n",
        "  [206.0, 388.0, 274.0, 412.0],\n",
        "  [176.0, 258.0, 242.0, 277.0],\n",
        "  [118.0, 258.0, 168.0, 279.0],\n",
        "  [220.0, 420.0, 312.0, 439.0],\n",
        "  [386.0, 103.0, 518.0, 130.0],\n",
        "  [124.0, 99.0, 316.0, 132.0],\n",
        "  [352.0, 258.0, 432.0, 277.0],\n",
        "  [264.0, 151.0, 384.0, 183.0],\n",
        "  [196.0, 202.0, 330.0, 232.0],\n",
        "  [262.0, 388.0, 356.0, 414.0],\n",
        "  [468.0, 258.0, 516.0, 277.0],\n",
        "  [542.0, 151.0, 616.0, 183.0],\n",
        "  [20.0, 151.0, 172.0, 181.0],\n",
        "  [392.0, 153.0, 456.0, 183.0],\n",
        "  [464.0, 156.0, 534.0, 183.0],\n",
        "  [244.0, 259.0, 292.0, 277.0],\n",
        "  [292.0, 261.0, 340.0, 280.0],\n",
        "  [424.0, 259.0, 470.0, 277.0],\n",
        "  [182.0, 154.0, 238.0, 183.0],\n",
        "  [326.0, 100.0, 374.0, 132.0]]}\n",
        "\n",
        "det_dict[\"img_1\"] = {\"bbox\" : [[120.0, 32.0, 915.0, 212.0],\n",
        " [78.0, 888.0, 456.0, 1016.0],\n",
        " [504.0, 904.0, 834.0, 1024.0],\n",
        " [522.0, 704.0, 933.0, 840.0],\n",
        " [150.0, 1080.0, 465.0, 1224.0],\n",
        " [267.0, 256.0, 663.0, 448.0],\n",
        " [513.0, 1056.0, 759.0, 1200.0],\n",
        " [138.0, 708.0, 453.0, 840.0]]}"
      ],
      "metadata": {
        "id": "hQwFizjKZsBx"
      },
      "execution_count": 16,
      "outputs": []
    },
    {
      "cell_type": "markdown",
      "source": [
        "## Testing"
      ],
      "metadata": {
        "id": "s-EgxKuWmDn9"
      }
    },
    {
      "cell_type": "code",
      "source": [
        "from evaluation import main"
      ],
      "metadata": {
        "id": "a35P8BIwljnX"
      },
      "execution_count": 17,
      "outputs": []
    },
    {
      "cell_type": "code",
      "source": [
        "main(gt_dict,det_dict)"
      ],
      "metadata": {
        "colab": {
          "base_uri": "https://localhost:8080/"
        },
        "id": "BK3DnpV8llvV",
        "outputId": "637b06a5-35bf-4d5b-dc9a-dc6af9cec8a2"
      },
      "execution_count": 18,
      "outputs": [
        {
          "output_type": "stream",
          "name": "stdout",
          "text": [
            "{'recall': 0.8720538720538721, 'precision': 0.9920634920634921, 'hmean': 0.9281956450063792}\n"
          ]
        }
      ]
    }
  ]
}